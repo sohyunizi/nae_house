{
 "cells": [
  {
   "cell_type": "code",
   "execution_count": null,
   "id": "298ff329",
   "metadata": {},
   "outputs": [],
   "source": [
    "# 필요한 라이브러리 임포트\n",
    "from selenium import webdriver\n",
    "from selenium.webdriver.chrome.service import Service\n",
    "from webdriver_manager.chrome import ChromeDriverManager\n",
    "from selenium.webdriver.common.by import By # 요소 선택에 사용\n",
    "from selenium.webdriver.common.keys import Keys # 스크롤 내릴 때 사용\n",
    "import time\n",
    "import pandas as pd\n",
    "\n",
    "\n",
    "# 사이트 오픈\n",
    "chrome_options = webdriver.ChromeOptions()\n",
    "driver = webdriver.Chrome(service=Service(ChromeDriverManager().install()), options=chrome_options)\n",
    "driver.implicitly_wait(2)\n",
    "driver.get('https://ohou.se/projects?writer=self') # 최신순 정렬\n",
    "\n",
    "\n",
    "# 기본 12개 url 수집\n",
    "urls = driver.find_elements(By.CLASS_NAME,'project-feed__item__link') # url 위치 선택\n",
    "url_list = [url.get_attribute('href') for url in urls]\n",
    "\n",
    "\n",
    "# 스크롤 내리면서 나머지 url 수집\n",
    "while len(url_list) < 7518:\n",
    "    driver.find_element(By.TAG_NAME, 'body').send_keys(Keys.PAGE_DOWN)\n",
    "    time.sleep(2)\n",
    "    new_urls = driver.find_elements(By.CLASS_NAME,'project-feed__item__link') # 새로운 url 위치 선택    \n",
    "    for url in new_urls:\n",
    "        if url.get_attribute('href') not in url_list: # 중복으로 들어가는 경우 방지\n",
    "            url_list.append(url.get_attribute('href')) \n",
    "\n",
    "\n",
    "print('수집 개수:', len(url_list))\n",
    "df = pd.DataFrame(url_list, columns = ['url'])\n",
    "df.to_csv('ohou_urls.csv', index = False)"
   ]
  }
 ],
 "metadata": {
  "kernelspec": {
   "display_name": "Python 3 (ipykernel)",
   "language": "python",
   "name": "python3"
  },
  "language_info": {
   "codemirror_mode": {
    "name": "ipython",
    "version": 3
   },
   "file_extension": ".py",
   "mimetype": "text/x-python",
   "name": "python",
   "nbconvert_exporter": "python",
   "pygments_lexer": "ipython3",
   "version": "3.9.12"
  },
  "toc": {
   "base_numbering": 1,
   "nav_menu": {},
   "number_sections": true,
   "sideBar": true,
   "skip_h1_title": false,
   "title_cell": "Table of Contents",
   "title_sidebar": "Contents",
   "toc_cell": false,
   "toc_position": {},
   "toc_section_display": true,
   "toc_window_display": false
  },
  "varInspector": {
   "cols": {
    "lenName": 16,
    "lenType": 16,
    "lenVar": 40
   },
   "kernels_config": {
    "python": {
     "delete_cmd_postfix": "",
     "delete_cmd_prefix": "del ",
     "library": "var_list.py",
     "varRefreshCmd": "print(var_dic_list())"
    },
    "r": {
     "delete_cmd_postfix": ") ",
     "delete_cmd_prefix": "rm(",
     "library": "var_list.r",
     "varRefreshCmd": "cat(var_dic_list()) "
    }
   },
   "types_to_exclude": [
    "module",
    "function",
    "builtin_function_or_method",
    "instance",
    "_Feature"
   ],
   "window_display": false
  }
 },
 "nbformat": 4,
 "nbformat_minor": 5
}
