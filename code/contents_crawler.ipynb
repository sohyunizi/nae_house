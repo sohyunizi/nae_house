{
 "cells": [
  {
   "cell_type": "code",
   "execution_count": 17,
   "id": "2d6244df",
   "metadata": {
    "ExecuteTime": {
     "end_time": "2022-10-13T06:52:08.914711Z",
     "start_time": "2022-10-13T06:52:08.884713Z"
    }
   },
   "outputs": [],
   "source": [
    "import pandas as pd\n",
    "df = pd.read_csv('ohou_urls.csv')\n",
    "df['제목'] = 0 # 집들이 글 제목\n",
    "df['작성일자'] = 0\n",
    "df['평수'] = 0 # 평수 (1-9/10/20/30/40/50/60/70이상)\n",
    "df['가족형태'] = 0 # 가족형태 (싱글라이프/신혼부부/아기가있는집/취학자녀가있는집/부모님과함꼐사는집/기타)\n",
    "df['공간'] = 0 # 공간 (원룸&오피스텔/아파트/빌라&연합/단독주택/사무공간/상업공간/기타)\n",
    "df['스타일'] = 0 # 스타일 (모던/미니멀&심플/내추럴/북유럽/빈티지&레트로/클래식&앤틱/프렌치&프로방스/러블리&로맨틱/인더스트리얼/한국&아시아/유니크&믹스매치)\n",
    "df['세부공사'] = 0 # 세부공사 (헤링본 마루/대리석 바닥/ 원목마루/포세린타일/폴링싱타일/주방리모델링/조명시공/폴딩도어/중문/가벽&파티션/슬라이딩도어/아트월/발코니확장)\n",
    "df['작업'] = 0 # 작업 (셀프,DIY/반셀프/전문가)\n",
    "df['지역'] = 0 # 지역\n",
    "df['분야'] = 0 # 분야 (리모델링/홈스타일링/부분공사/건축)\n",
    "df['예산'] = 0 # 예산 (1백미만/1백/2백/3백/4백/5백/1천/2천/3천/4천이상)\n",
    "df['스크랩'] = 0\n",
    "df['좋아요'] = 0\n",
    "df['댓글'] = 0\n",
    "df['조회'] = 0\n"
   ]
  },
  {
   "cell_type": "code",
   "execution_count": 18,
   "id": "c4584460",
   "metadata": {
    "ExecuteTime": {
     "end_time": "2022-10-13T06:52:11.135608Z",
     "start_time": "2022-10-13T06:52:11.119608Z"
    }
   },
   "outputs": [
    {
     "data": {
      "text/plain": [
       "Index(['작성일자', '평수', '가족형태', '공간', '스타일', '세부공사', '작업', '지역', '분야', '예산',\n",
       "       '스크랩', '좋아요', '댓글', '조회'],\n",
       "      dtype='object')"
      ]
     },
     "execution_count": 18,
     "metadata": {},
     "output_type": "execute_result"
    }
   ],
   "source": [
    "df.columns[2:]"
   ]
  },
  {
   "cell_type": "code",
   "execution_count": null,
   "id": "a9df539c",
   "metadata": {},
   "outputs": [],
   "source": [
    "from selenium import webdriver\n",
    "from selenium.webdriver.chrome.service import Service\n",
    "from webdriver_manager.chrome import ChromeDriverManager\n",
    "from bs4 import BeautifulSoup as BS\n",
    "import pandas as pd\n",
    "from IPython.display import display\n",
    "\n",
    "chrome_options = webdriver.ChromeOptions()\n",
    "driver = webdriver.Chrome(service=Service(ChromeDriverManager().install()), options = chrome_options)\n",
    "# 페이지가 모두 로드될 때까지 3초 기다려주도록 처리\n",
    "driver.implicitly_wait(3)\n",
    "\n",
    "for idx, url in enumerate(df['url'][:700]):\n",
    "    # Selenium을 통해 실제 크롬창에서 접속한 것과 동일하게 해당 URL내용을 가져옴\n",
    "    driver.get(df['url'][idx])\n",
    "    # 소스를 읽어 BeautifulSoup를 이용해 파싱\n",
    "    html = driver.page_source\n",
    "    soup = BS(html, 'html.parser')\n",
    "    \n",
    "    title = soup.select('body > div.page > div > div > main > div.content-detail-content-section > div.content-detail-content-section__content > header > h1')\n",
    "    date = soup.select('body > div.page > div > div > main > div.content-detail-content-section > div.content-detail-content-section__content > header > div.content-detail-header__bottom > a > div.content-detail-header__author-date')\n",
    "    texts = soup.select('body > div.page > div > div > main > div.content-detail-content-section > div.content-detail-content-section__content > section > div > div.project-detail-foldable__content > dl > div')\n",
    "    reactions = soup.select('body > div.page > div > div > main > div.content-detail-footer > dl')\n",
    "    \n",
    "    df['제목'][idx] = title[0].text\n",
    "    df['작성일자'][idx] = date[0].text\n",
    "    \n",
    "    text_dic = {}\n",
    "    for text in texts:\n",
    "        text_dic[text.find('dt').text] = text.find('dd').text\n",
    "    for react in reactions[0].find_all('div'):\n",
    "        text_dic[react.find('dt').text] = react.find('dd').text\n",
    "\n",
    "    for col in df.columns[2:]: \n",
    "        if col in text_dic:\n",
    "            df[col][idx] = text_dic[col]\n",
    "            \n",
    "driver.close()"
   ]
  },
  {
   "cell_type": "code",
   "execution_count": 20,
   "id": "18b04d2e",
   "metadata": {
    "ExecuteTime": {
     "end_time": "2022-10-13T06:53:18.879304Z",
     "start_time": "2022-10-13T06:53:18.861306Z"
    }
   },
   "outputs": [],
   "source": [
    "nae_house = df\n",
    "nae_house.to_csv('0-700.csv')"
   ]
  },
  {
   "cell_type": "code",
   "execution_count": 21,
   "id": "125a5791",
   "metadata": {
    "ExecuteTime": {
     "end_time": "2022-10-13T06:53:20.648110Z",
     "start_time": "2022-10-13T06:53:20.624109Z"
    }
   },
   "outputs": [
    {
     "data": {
      "text/html": [
       "<div>\n",
       "<style scoped>\n",
       "    .dataframe tbody tr th:only-of-type {\n",
       "        vertical-align: middle;\n",
       "    }\n",
       "\n",
       "    .dataframe tbody tr th {\n",
       "        vertical-align: top;\n",
       "    }\n",
       "\n",
       "    .dataframe thead th {\n",
       "        text-align: right;\n",
       "    }\n",
       "</style>\n",
       "<table border=\"1\" class=\"dataframe\">\n",
       "  <thead>\n",
       "    <tr style=\"text-align: right;\">\n",
       "      <th></th>\n",
       "      <th>url</th>\n",
       "      <th>제목</th>\n",
       "      <th>작성일자</th>\n",
       "      <th>평수</th>\n",
       "      <th>가족형태</th>\n",
       "      <th>공간</th>\n",
       "      <th>스타일</th>\n",
       "      <th>세부공사</th>\n",
       "      <th>작업</th>\n",
       "      <th>지역</th>\n",
       "      <th>분야</th>\n",
       "      <th>예산</th>\n",
       "      <th>스크랩</th>\n",
       "      <th>좋아요</th>\n",
       "      <th>댓글</th>\n",
       "      <th>조회</th>\n",
       "    </tr>\n",
       "  </thead>\n",
       "  <tbody>\n",
       "    <tr>\n",
       "      <th>0</th>\n",
       "      <td>https://ohou.se/projects/119997/detail?affect_...</td>\n",
       "      <td>앱도 집도 사용성이 우선! UI/UX 디자이너의 집</td>\n",
       "      <td>3주 전</td>\n",
       "      <td>30평</td>\n",
       "      <td>신혼부부</td>\n",
       "      <td>아파트</td>\n",
       "      <td>내추럴</td>\n",
       "      <td>0</td>\n",
       "      <td>반셀프</td>\n",
       "      <td>0</td>\n",
       "      <td>리모델링</td>\n",
       "      <td>0</td>\n",
       "      <td>1,328</td>\n",
       "      <td>412</td>\n",
       "      <td>40</td>\n",
       "      <td>26,961</td>\n",
       "    </tr>\n",
       "    <tr>\n",
       "      <th>1</th>\n",
       "      <td>https://ohou.se/projects/123100/detail?affect_...</td>\n",
       "      <td>탐나는 포인트가 가득! 매력이 넘치는 숲속의 집</td>\n",
       "      <td>2주 전</td>\n",
       "      <td>31평</td>\n",
       "      <td>신혼부부</td>\n",
       "      <td>아파트</td>\n",
       "      <td>모던</td>\n",
       "      <td>0</td>\n",
       "      <td>전문가</td>\n",
       "      <td>경기도 고양시</td>\n",
       "      <td>리모델링</td>\n",
       "      <td>0</td>\n",
       "      <td>1,244</td>\n",
       "      <td>360</td>\n",
       "      <td>92</td>\n",
       "      <td>30,656</td>\n",
       "    </tr>\n",
       "    <tr>\n",
       "      <th>2</th>\n",
       "      <td>https://ohou.se/projects/122245/detail?affect_...</td>\n",
       "      <td>원룸러 주목! 가구 배치로 고통받는 이들을 위한 바이블</td>\n",
       "      <td>3주 전</td>\n",
       "      <td>7평</td>\n",
       "      <td>싱글라이프</td>\n",
       "      <td>원룸&amp;오피스텔</td>\n",
       "      <td>모던</td>\n",
       "      <td>0</td>\n",
       "      <td>셀프•DIY</td>\n",
       "      <td>서울특별시</td>\n",
       "      <td>홈스타일링</td>\n",
       "      <td>0</td>\n",
       "      <td>1,291</td>\n",
       "      <td>235</td>\n",
       "      <td>42</td>\n",
       "      <td>28,248</td>\n",
       "    </tr>\n",
       "    <tr>\n",
       "      <th>3</th>\n",
       "      <td>https://ohou.se/projects/121087/detail?affect_...</td>\n",
       "      <td>점점 내 취향에 가까운 공간으로, 포근포근 빈티지 원룸</td>\n",
       "      <td>3주 전</td>\n",
       "      <td>6평</td>\n",
       "      <td>싱글라이프</td>\n",
       "      <td>원룸&amp;오피스텔</td>\n",
       "      <td>빈티지&amp;레트로</td>\n",
       "      <td>0</td>\n",
       "      <td>셀프•DIY</td>\n",
       "      <td>0</td>\n",
       "      <td>홈스타일링</td>\n",
       "      <td>0</td>\n",
       "      <td>1,267</td>\n",
       "      <td>215</td>\n",
       "      <td>36</td>\n",
       "      <td>20,204</td>\n",
       "    </tr>\n",
       "    <tr>\n",
       "      <th>4</th>\n",
       "      <td>https://ohou.se/projects/123059/detail?affect_...</td>\n",
       "      <td>구조와 스타일링이 다채롭게 바뀌는 1.5룸 라이프</td>\n",
       "      <td>2주 전</td>\n",
       "      <td>8평</td>\n",
       "      <td>싱글라이프</td>\n",
       "      <td>원룸&amp;오피스텔</td>\n",
       "      <td>빈티지&amp;레트로</td>\n",
       "      <td>0</td>\n",
       "      <td>셀프•DIY</td>\n",
       "      <td>경상남도 김해시</td>\n",
       "      <td>홈스타일링</td>\n",
       "      <td>0</td>\n",
       "      <td>1,193</td>\n",
       "      <td>212</td>\n",
       "      <td>63</td>\n",
       "      <td>24,093</td>\n",
       "    </tr>\n",
       "  </tbody>\n",
       "</table>\n",
       "</div>"
      ],
      "text/plain": [
       "                                                 url  \\\n",
       "0  https://ohou.se/projects/119997/detail?affect_...   \n",
       "1  https://ohou.se/projects/123100/detail?affect_...   \n",
       "2  https://ohou.se/projects/122245/detail?affect_...   \n",
       "3  https://ohou.se/projects/121087/detail?affect_...   \n",
       "4  https://ohou.se/projects/123059/detail?affect_...   \n",
       "\n",
       "                               제목  작성일자   평수   가족형태       공간      스타일 세부공사  \\\n",
       "0    앱도 집도 사용성이 우선! UI/UX 디자이너의 집  3주 전  30평   신혼부부      아파트      내추럴    0   \n",
       "1      탐나는 포인트가 가득! 매력이 넘치는 숲속의 집  2주 전  31평   신혼부부      아파트       모던    0   \n",
       "2  원룸러 주목! 가구 배치로 고통받는 이들을 위한 바이블  3주 전   7평  싱글라이프  원룸&오피스텔       모던    0   \n",
       "3  점점 내 취향에 가까운 공간으로, 포근포근 빈티지 원룸  3주 전   6평  싱글라이프  원룸&오피스텔  빈티지&레트로    0   \n",
       "4     구조와 스타일링이 다채롭게 바뀌는 1.5룸 라이프  2주 전   8평  싱글라이프  원룸&오피스텔  빈티지&레트로    0   \n",
       "\n",
       "       작업        지역     분야 예산    스크랩  좋아요  댓글      조회  \n",
       "0     반셀프         0   리모델링  0  1,328  412  40  26,961  \n",
       "1     전문가   경기도 고양시   리모델링  0  1,244  360  92  30,656  \n",
       "2  셀프•DIY     서울특별시  홈스타일링  0  1,291  235  42  28,248  \n",
       "3  셀프•DIY         0  홈스타일링  0  1,267  215  36  20,204  \n",
       "4  셀프•DIY  경상남도 김해시  홈스타일링  0  1,193  212  63  24,093  "
      ]
     },
     "execution_count": 21,
     "metadata": {},
     "output_type": "execute_result"
    }
   ],
   "source": [
    "nae_house.head()"
   ]
  },
  {
   "cell_type": "code",
   "execution_count": null,
   "id": "77d5e2a0",
   "metadata": {},
   "outputs": [],
   "source": []
  }
 ],
 "metadata": {
  "kernelspec": {
   "display_name": "Python 3 (ipykernel)",
   "language": "python",
   "name": "python3"
  },
  "language_info": {
   "codemirror_mode": {
    "name": "ipython",
    "version": 3
   },
   "file_extension": ".py",
   "mimetype": "text/x-python",
   "name": "python",
   "nbconvert_exporter": "python",
   "pygments_lexer": "ipython3",
   "version": "3.9.12"
  },
  "toc": {
   "base_numbering": 1,
   "nav_menu": {},
   "number_sections": true,
   "sideBar": true,
   "skip_h1_title": false,
   "title_cell": "Table of Contents",
   "title_sidebar": "Contents",
   "toc_cell": false,
   "toc_position": {},
   "toc_section_display": true,
   "toc_window_display": false
  },
  "varInspector": {
   "cols": {
    "lenName": 16,
    "lenType": 16,
    "lenVar": 40
   },
   "kernels_config": {
    "python": {
     "delete_cmd_postfix": "",
     "delete_cmd_prefix": "del ",
     "library": "var_list.py",
     "varRefreshCmd": "print(var_dic_list())"
    },
    "r": {
     "delete_cmd_postfix": ") ",
     "delete_cmd_prefix": "rm(",
     "library": "var_list.r",
     "varRefreshCmd": "cat(var_dic_list()) "
    }
   },
   "types_to_exclude": [
    "module",
    "function",
    "builtin_function_or_method",
    "instance",
    "_Feature"
   ],
   "window_display": false
  }
 },
 "nbformat": 4,
 "nbformat_minor": 5
}
