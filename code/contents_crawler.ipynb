{
  "cells": [
    {
      "cell_type": "code",
      "source": [
        "from google.colab import drive\n",
        "drive.mount('/content/drive') # 구글 드라이브에 파일을 업로드하여 마운트하는 경우 이 셀 실행"
      ],
      "metadata": {
        "id": "kojs1EuqbBPU",
        "outputId": "2e3b550b-2ec9-44cc-e6e3-3089022c9090",
        "colab": {
          "base_uri": "https://localhost:8080/"
        }
      },
      "id": "kojs1EuqbBPU",
      "execution_count": 2,
      "outputs": [
        {
          "output_type": "stream",
          "name": "stdout",
          "text": [
            "Mounted at /content/drive\n"
          ]
        }
      ]
    },
    {
      "cell_type": "code",
      "source": [
        "# 코랩에서 드라이브 오류날 경우 이 셀로 테스트 해보세요!\n",
        "\n",
        "# install chromium, its driver, and selenium\n",
        "!apt-get update\n",
        "!apt install chromium-chromedriver\n",
        "!cp /usr/lib/chromium-browser/chromedriver /usr/bin\n",
        "!pip install selenium\n",
        "# set options to be headless, ..\n",
        "from selenium import webdriver\n",
        "options = webdriver.ChromeOptions()\n",
        "options.add_argument('--headless')\n",
        "options.add_argument('--no-sandbox')\n",
        "options.add_argument('--disable-dev-shm-usage')\n",
        "# open it, go to a website, and get results\n",
        "wd = webdriver.Chrome('chromedriver',options=options)\n",
        "wd.get(\"https://www.website.com\")\n",
        "print(wd.page_source)  # results"
      ],
      "metadata": {
        "id": "aRgUEYHoeq6B"
      },
      "id": "aRgUEYHoeq6B",
      "execution_count": null,
      "outputs": []
    },
    {
      "cell_type": "code",
      "execution_count": null,
      "id": "2d6244df",
      "metadata": {
        "ExecuteTime": {
          "end_time": "2022-10-13T07:37:33.638162Z",
          "start_time": "2022-10-13T07:37:33.593878Z"
        },
        "id": "2d6244df"
      },
      "outputs": [],
      "source": [
        "import pandas as pd\n",
        "df = pd.read_csv('/content/drive/MyDrive/nae_house/url_sample_5184.csv')\n",
        "df = df[3500:4200] # 본인이 맡은 부분으로 슬라이싱 변경\n",
        "\n",
        "df['제목'] = 0 # 집들이 글 제목\n",
        "df['작성일자'] = 0\n",
        "df['평수'] = 0 # 평수 (1-9/10/20/30/40/50/60/70이상)\n",
        "df['가족형태'] = 0 # 가족형태 (싱글라이프/신혼부부/아기가있는집/취학자녀가있는집/부모님과함께사는집/기타)\n",
        "df['공간'] = 0 # 공간 (원룸&오피스텔/아파트/빌라&연합/단독주택/사무공간/상업공간/기타)\n",
        "df['스타일'] = 0 # 스타일 (모던/미니멀&심플/내추럴/북유럽/빈티지&레트로/클래식&앤틱/프렌치&프로방스/러블리&로맨틱/인더스트리얼/한국&아시아/유니크&믹스매치)\n",
        "df['세부공사'] = 0 # 세부공사 (헤링본 마루/대리석 바닥/ 원목마루/포세린타일/폴리싱타일/주방리모델링/조명시공/폴딩도어/중문/가벽&파티션/슬라이딩도어/아트월/발코니확장)\n",
        "df['작업'] = 0 # 작업 (셀프,DIY/반셀프/전문가)\n",
        "df['지역'] = 0 # 지역\n",
        "df['분야'] = 0 # 분야 (리모델링/홈스타일링/부분공사/건축)\n",
        "df['예산'] = 0 # 예산 (1백미만/1백/2백/3백/4백/5백/1천/2천/3천/4천이상)\n",
        "df['스크랩'] = 0\n",
        "df['좋아요'] = 0\n",
        "df['댓글'] = 0\n",
        "df['조회'] = 0\n",
        "\n",
        "df"
      ]
    },
    {
      "cell_type": "code",
      "execution_count": 5,
      "id": "d669fdd5",
      "metadata": {
        "ExecuteTime": {
          "end_time": "2022-10-13T07:37:35.490078Z",
          "start_time": "2022-10-13T07:37:35.465081Z"
        },
        "scrolled": true,
        "id": "d669fdd5",
        "outputId": "a4c90a84-07f4-404a-d376-cb889010b0ad",
        "colab": {
          "base_uri": "https://localhost:8080/",
          "height": 206
        }
      },
      "outputs": [
        {
          "output_type": "execute_result",
          "data": {
            "text/plain": [
              "                                                    url  제목  작성일자  평수  가족형태  \\\n",
              "3500  https://ohou.se/projects/36604/detail?affect_t...   0     0   0     0   \n",
              "3501  https://ohou.se/projects/36602/detail?affect_t...   0     0   0     0   \n",
              "3502  https://ohou.se/projects/36595/detail?affect_t...   0     0   0     0   \n",
              "3503  https://ohou.se/projects/36593/detail?affect_t...   0     0   0     0   \n",
              "3504  https://ohou.se/projects/36583/detail?affect_t...   0     0   0     0   \n",
              "\n",
              "      공간  스타일  세부공사  작업  지역  분야  예산  스크랩  좋아요  댓글  조회  \n",
              "3500   0    0     0   0   0   0   0    0    0   0   0  \n",
              "3501   0    0     0   0   0   0   0    0    0   0   0  \n",
              "3502   0    0     0   0   0   0   0    0    0   0   0  \n",
              "3503   0    0     0   0   0   0   0    0    0   0   0  \n",
              "3504   0    0     0   0   0   0   0    0    0   0   0  "
            ],
            "text/html": [
              "\n",
              "  <div id=\"df-7af58903-5b89-416a-ae8d-08e34e6eb5a7\">\n",
              "    <div class=\"colab-df-container\">\n",
              "      <div>\n",
              "<style scoped>\n",
              "    .dataframe tbody tr th:only-of-type {\n",
              "        vertical-align: middle;\n",
              "    }\n",
              "\n",
              "    .dataframe tbody tr th {\n",
              "        vertical-align: top;\n",
              "    }\n",
              "\n",
              "    .dataframe thead th {\n",
              "        text-align: right;\n",
              "    }\n",
              "</style>\n",
              "<table border=\"1\" class=\"dataframe\">\n",
              "  <thead>\n",
              "    <tr style=\"text-align: right;\">\n",
              "      <th></th>\n",
              "      <th>url</th>\n",
              "      <th>제목</th>\n",
              "      <th>작성일자</th>\n",
              "      <th>평수</th>\n",
              "      <th>가족형태</th>\n",
              "      <th>공간</th>\n",
              "      <th>스타일</th>\n",
              "      <th>세부공사</th>\n",
              "      <th>작업</th>\n",
              "      <th>지역</th>\n",
              "      <th>분야</th>\n",
              "      <th>예산</th>\n",
              "      <th>스크랩</th>\n",
              "      <th>좋아요</th>\n",
              "      <th>댓글</th>\n",
              "      <th>조회</th>\n",
              "    </tr>\n",
              "  </thead>\n",
              "  <tbody>\n",
              "    <tr>\n",
              "      <th>3500</th>\n",
              "      <td>https://ohou.se/projects/36604/detail?affect_t...</td>\n",
              "      <td>0</td>\n",
              "      <td>0</td>\n",
              "      <td>0</td>\n",
              "      <td>0</td>\n",
              "      <td>0</td>\n",
              "      <td>0</td>\n",
              "      <td>0</td>\n",
              "      <td>0</td>\n",
              "      <td>0</td>\n",
              "      <td>0</td>\n",
              "      <td>0</td>\n",
              "      <td>0</td>\n",
              "      <td>0</td>\n",
              "      <td>0</td>\n",
              "      <td>0</td>\n",
              "    </tr>\n",
              "    <tr>\n",
              "      <th>3501</th>\n",
              "      <td>https://ohou.se/projects/36602/detail?affect_t...</td>\n",
              "      <td>0</td>\n",
              "      <td>0</td>\n",
              "      <td>0</td>\n",
              "      <td>0</td>\n",
              "      <td>0</td>\n",
              "      <td>0</td>\n",
              "      <td>0</td>\n",
              "      <td>0</td>\n",
              "      <td>0</td>\n",
              "      <td>0</td>\n",
              "      <td>0</td>\n",
              "      <td>0</td>\n",
              "      <td>0</td>\n",
              "      <td>0</td>\n",
              "      <td>0</td>\n",
              "    </tr>\n",
              "    <tr>\n",
              "      <th>3502</th>\n",
              "      <td>https://ohou.se/projects/36595/detail?affect_t...</td>\n",
              "      <td>0</td>\n",
              "      <td>0</td>\n",
              "      <td>0</td>\n",
              "      <td>0</td>\n",
              "      <td>0</td>\n",
              "      <td>0</td>\n",
              "      <td>0</td>\n",
              "      <td>0</td>\n",
              "      <td>0</td>\n",
              "      <td>0</td>\n",
              "      <td>0</td>\n",
              "      <td>0</td>\n",
              "      <td>0</td>\n",
              "      <td>0</td>\n",
              "      <td>0</td>\n",
              "    </tr>\n",
              "    <tr>\n",
              "      <th>3503</th>\n",
              "      <td>https://ohou.se/projects/36593/detail?affect_t...</td>\n",
              "      <td>0</td>\n",
              "      <td>0</td>\n",
              "      <td>0</td>\n",
              "      <td>0</td>\n",
              "      <td>0</td>\n",
              "      <td>0</td>\n",
              "      <td>0</td>\n",
              "      <td>0</td>\n",
              "      <td>0</td>\n",
              "      <td>0</td>\n",
              "      <td>0</td>\n",
              "      <td>0</td>\n",
              "      <td>0</td>\n",
              "      <td>0</td>\n",
              "      <td>0</td>\n",
              "    </tr>\n",
              "    <tr>\n",
              "      <th>3504</th>\n",
              "      <td>https://ohou.se/projects/36583/detail?affect_t...</td>\n",
              "      <td>0</td>\n",
              "      <td>0</td>\n",
              "      <td>0</td>\n",
              "      <td>0</td>\n",
              "      <td>0</td>\n",
              "      <td>0</td>\n",
              "      <td>0</td>\n",
              "      <td>0</td>\n",
              "      <td>0</td>\n",
              "      <td>0</td>\n",
              "      <td>0</td>\n",
              "      <td>0</td>\n",
              "      <td>0</td>\n",
              "      <td>0</td>\n",
              "      <td>0</td>\n",
              "    </tr>\n",
              "  </tbody>\n",
              "</table>\n",
              "</div>\n",
              "      <button class=\"colab-df-convert\" onclick=\"convertToInteractive('df-7af58903-5b89-416a-ae8d-08e34e6eb5a7')\"\n",
              "              title=\"Convert this dataframe to an interactive table.\"\n",
              "              style=\"display:none;\">\n",
              "        \n",
              "  <svg xmlns=\"http://www.w3.org/2000/svg\" height=\"24px\"viewBox=\"0 0 24 24\"\n",
              "       width=\"24px\">\n",
              "    <path d=\"M0 0h24v24H0V0z\" fill=\"none\"/>\n",
              "    <path d=\"M18.56 5.44l.94 2.06.94-2.06 2.06-.94-2.06-.94-.94-2.06-.94 2.06-2.06.94zm-11 1L8.5 8.5l.94-2.06 2.06-.94-2.06-.94L8.5 2.5l-.94 2.06-2.06.94zm10 10l.94 2.06.94-2.06 2.06-.94-2.06-.94-.94-2.06-.94 2.06-2.06.94z\"/><path d=\"M17.41 7.96l-1.37-1.37c-.4-.4-.92-.59-1.43-.59-.52 0-1.04.2-1.43.59L10.3 9.45l-7.72 7.72c-.78.78-.78 2.05 0 2.83L4 21.41c.39.39.9.59 1.41.59.51 0 1.02-.2 1.41-.59l7.78-7.78 2.81-2.81c.8-.78.8-2.07 0-2.86zM5.41 20L4 18.59l7.72-7.72 1.47 1.35L5.41 20z\"/>\n",
              "  </svg>\n",
              "      </button>\n",
              "      \n",
              "  <style>\n",
              "    .colab-df-container {\n",
              "      display:flex;\n",
              "      flex-wrap:wrap;\n",
              "      gap: 12px;\n",
              "    }\n",
              "\n",
              "    .colab-df-convert {\n",
              "      background-color: #E8F0FE;\n",
              "      border: none;\n",
              "      border-radius: 50%;\n",
              "      cursor: pointer;\n",
              "      display: none;\n",
              "      fill: #1967D2;\n",
              "      height: 32px;\n",
              "      padding: 0 0 0 0;\n",
              "      width: 32px;\n",
              "    }\n",
              "\n",
              "    .colab-df-convert:hover {\n",
              "      background-color: #E2EBFA;\n",
              "      box-shadow: 0px 1px 2px rgba(60, 64, 67, 0.3), 0px 1px 3px 1px rgba(60, 64, 67, 0.15);\n",
              "      fill: #174EA6;\n",
              "    }\n",
              "\n",
              "    [theme=dark] .colab-df-convert {\n",
              "      background-color: #3B4455;\n",
              "      fill: #D2E3FC;\n",
              "    }\n",
              "\n",
              "    [theme=dark] .colab-df-convert:hover {\n",
              "      background-color: #434B5C;\n",
              "      box-shadow: 0px 1px 3px 1px rgba(0, 0, 0, 0.15);\n",
              "      filter: drop-shadow(0px 1px 2px rgba(0, 0, 0, 0.3));\n",
              "      fill: #FFFFFF;\n",
              "    }\n",
              "  </style>\n",
              "\n",
              "      <script>\n",
              "        const buttonEl =\n",
              "          document.querySelector('#df-7af58903-5b89-416a-ae8d-08e34e6eb5a7 button.colab-df-convert');\n",
              "        buttonEl.style.display =\n",
              "          google.colab.kernel.accessAllowed ? 'block' : 'none';\n",
              "\n",
              "        async function convertToInteractive(key) {\n",
              "          const element = document.querySelector('#df-7af58903-5b89-416a-ae8d-08e34e6eb5a7');\n",
              "          const dataTable =\n",
              "            await google.colab.kernel.invokeFunction('convertToInteractive',\n",
              "                                                     [key], {});\n",
              "          if (!dataTable) return;\n",
              "\n",
              "          const docLinkHtml = 'Like what you see? Visit the ' +\n",
              "            '<a target=\"_blank\" href=https://colab.research.google.com/notebooks/data_table.ipynb>data table notebook</a>'\n",
              "            + ' to learn more about interactive tables.';\n",
              "          element.innerHTML = '';\n",
              "          dataTable['output_type'] = 'display_data';\n",
              "          await google.colab.output.renderOutput(dataTable, element);\n",
              "          const docLink = document.createElement('div');\n",
              "          docLink.innerHTML = docLinkHtml;\n",
              "          element.appendChild(docLink);\n",
              "        }\n",
              "      </script>\n",
              "    </div>\n",
              "  </div>\n",
              "  "
            ]
          },
          "metadata": {},
          "execution_count": 5
        }
      ],
      "source": [
        "df.head() # 인덱스 번호 변경 확인"
      ]
    },
    {
      "cell_type": "code",
      "execution_count": 6,
      "id": "c4584460",
      "metadata": {
        "ExecuteTime": {
          "end_time": "2022-10-13T07:37:37.312053Z",
          "start_time": "2022-10-13T07:37:37.303056Z"
        },
        "id": "c4584460",
        "outputId": "1c6cf4c2-bbde-4111-892d-0ff522548f06",
        "colab": {
          "base_uri": "https://localhost:8080/"
        }
      },
      "outputs": [
        {
          "output_type": "execute_result",
          "data": {
            "text/plain": [
              "Index(['작성일자', '평수', '가족형태', '공간', '스타일', '세부공사', '작업', '지역', '분야', '예산',\n",
              "       '스크랩', '좋아요', '댓글', '조회'],\n",
              "      dtype='object')"
            ]
          },
          "metadata": {},
          "execution_count": 6
        }
      ],
      "source": [
        "df.columns[2:]"
      ]
    },
    {
      "cell_type": "code",
      "source": [
        "from selenium import webdriver\n",
        "from selenium.webdriver.chrome.service import Service\n",
        "# from webdriver_manager.chrome import ChromeDriverManager\n",
        "from bs4 import BeautifulSoup as BS\n",
        "import pandas as pd\n",
        "from IPython.display import display\n",
        "import warnings"
      ],
      "metadata": {
        "id": "y28fqKuxdo3Z"
      },
      "id": "y28fqKuxdo3Z",
      "execution_count": 19,
      "outputs": []
    },
    {
      "cell_type": "code",
      "execution_count": null,
      "id": "a9df539c",
      "metadata": {
        "ExecuteTime": {
          "end_time": "2022-10-13T07:39:03.478491Z",
          "start_time": "2022-10-13T07:37:39.808334Z"
        },
        "collapsed": true,
        "id": "a9df539c"
      },
      "outputs": [],
      "source": [
        "warnings.filterwarnings(action='ignore')\n",
        "\n",
        "chrome_options = webdriver.ChromeOptions()\n",
        "driver = webdriver.Chrome('chromedriver',options=options)\n",
        "# 페이지가 모두 로드될 때까지 3초 기다려주도록 처리\n",
        "driver.implicitly_wait(3)\n",
        "\n",
        "for idx in df.index:\n",
        "    # Selenium을 통해 실제 크롬창에서 접속한 것과 동일하게 해당 URL내용을 가져옴\n",
        "    driver.get(df['url'][idx])\n",
        "    # 소스를 읽어 BeautifulSoup를 이용해 파싱\n",
        "    html = driver.page_source\n",
        "    soup = BS(html, 'html.parser')\n",
        "\n",
        "\n",
        "    reactions = soup.select('body > div.page > div > div > main > div.content-detail-footer > dl')\n",
        "    if soup.find_all('h1', 'content-detail-header__title'):\n",
        "        title = soup.select('body > div.page > div > div > main > div.content-detail-content-section > div.content-detail-content-section__content > header > h1')\n",
        "        date = soup.select('body > div.page > div > div > main > div.content-detail-content-section > div.content-detail-content-section__content > header > div.content-detail-header__bottom > a > div.content-detail-header__author-date')\n",
        "        texts = soup.select('body > div.page > div > div > main > div.content-detail-content-section > div.content-detail-content-section__content > section > div > div.project-detail-foldable__content > dl > div')\n",
        "    else:\n",
        "        contents = soup.select('body > div.page > div > div > main > div.content-detail-content-section.video-project-detail__content-section > div.content-detail-content-section__content')\n",
        "        title = contents[0].find_all('h1', 'content-detail-header__title')\n",
        "        date = soup.select('body > div.page > div > div > main > div.content-detail-content-section.video-project-detail__content-section > div.content-detail-content-section__content > div.css-v1ygcs.ebj05vv0 > header > div.content-detail-header__bottom > a > div.content-detail-header__author-date')\n",
        "        texts = soup.select('body > div.page > div > div > main > div.content-detail-content-section.video-project-detail__content-section > div.content-detail-content-section__content > section > div.video-project-detail-upper-section__metadata-top > dl.project-detail-metadata-detail')[0].find_all('div')\n",
        "\n",
        "    \n",
        "    df['제목'][idx] = title[0].text\n",
        "    df['작성일자'][idx] = date[0].text\n",
        "    \n",
        "    text_dic = {}\n",
        "    for text in texts:\n",
        "        text_dic[text.find('dt').text] = text.find('dd').text\n",
        "    for react in reactions[0].find_all('div'):\n",
        "        text_dic[react.find('dt').text] = react.find('dd').text\n",
        "\n",
        "    for col in df.columns[2:]: \n",
        "        if col in text_dic:\n",
        "            df[col][idx] = text_dic[col]\n",
        "\n",
        "    if idx % 50 == 49:\n",
        "        print(df['url'][idx])\n",
        "\n",
        "driver.close()"
      ]
    },
    {
      "cell_type": "code",
      "source": [
        "df.head()"
      ],
      "metadata": {
        "id": "MEMsDv2ZuXkW"
      },
      "id": "MEMsDv2ZuXkW",
      "execution_count": null,
      "outputs": []
    },
    {
      "cell_type": "code",
      "source": [
        "# 파일명 본인이 맡은 인덱스로 변경!\n",
        "df.to_csv('3500-4200.csv')"
      ],
      "metadata": {
        "id": "h2UFabHdv1gz"
      },
      "id": "h2UFabHdv1gz",
      "execution_count": null,
      "outputs": []
    }
  ],
  "metadata": {
    "kernelspec": {
      "display_name": "Python 3 (ipykernel)",
      "language": "python",
      "name": "python3"
    },
    "language_info": {
      "codemirror_mode": {
        "name": "ipython",
        "version": 3
      },
      "file_extension": ".py",
      "mimetype": "text/x-python",
      "name": "python",
      "nbconvert_exporter": "python",
      "pygments_lexer": "ipython3",
      "version": "3.9.12"
    },
    "toc": {
      "base_numbering": 1,
      "nav_menu": {},
      "number_sections": true,
      "sideBar": true,
      "skip_h1_title": false,
      "title_cell": "Table of Contents",
      "title_sidebar": "Contents",
      "toc_cell": false,
      "toc_position": {},
      "toc_section_display": true,
      "toc_window_display": false
    },
    "varInspector": {
      "cols": {
        "lenName": 16,
        "lenType": 16,
        "lenVar": 40
      },
      "kernels_config": {
        "python": {
          "delete_cmd_postfix": "",
          "delete_cmd_prefix": "del ",
          "library": "var_list.py",
          "varRefreshCmd": "print(var_dic_list())"
        },
        "r": {
          "delete_cmd_postfix": ") ",
          "delete_cmd_prefix": "rm(",
          "library": "var_list.r",
          "varRefreshCmd": "cat(var_dic_list()) "
        }
      },
      "types_to_exclude": [
        "module",
        "function",
        "builtin_function_or_method",
        "instance",
        "_Feature"
      ],
      "window_display": false
    },
    "colab": {
      "provenance": []
    },
    "accelerator": "GPU"
  },
  "nbformat": 4,
  "nbformat_minor": 5
}